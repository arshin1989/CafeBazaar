{
 "cells": [
  {
   "cell_type": "code",
   "execution_count": 1,
   "metadata": {},
   "outputs": [
    {
     "data": {
      "text/html": [
       "<div>\n",
       "<style scoped>\n",
       "    .dataframe tbody tr th:only-of-type {\n",
       "        vertical-align: middle;\n",
       "    }\n",
       "\n",
       "    .dataframe tbody tr th {\n",
       "        vertical-align: top;\n",
       "    }\n",
       "\n",
       "    .dataframe thead th {\n",
       "        text-align: right;\n",
       "    }\n",
       "</style>\n",
       "<table border=\"1\" class=\"dataframe\">\n",
       "  <thead>\n",
       "    <tr style=\"text-align: right;\">\n",
       "      <th></th>\n",
       "      <th>App</th>\n",
       "      <th>Category</th>\n",
       "      <th>Rating</th>\n",
       "      <th>Reviews</th>\n",
       "      <th>Size</th>\n",
       "      <th>Installs</th>\n",
       "      <th>Type</th>\n",
       "      <th>Price</th>\n",
       "      <th>Current_Ver</th>\n",
       "      <th>Developer</th>\n",
       "      <th>DeveloperLinkPage</th>\n",
       "      <th>pkg_name</th>\n",
       "    </tr>\n",
       "  </thead>\n",
       "  <tbody>\n",
       "    <tr>\n",
       "      <th>177175</th>\n",
       "      <td>قایق بازی</td>\n",
       "      <td>ورزشی</td>\n",
       "      <td>3.9</td>\n",
       "      <td>19</td>\n",
       "      <td>13.0</td>\n",
       "      <td>+۱۰</td>\n",
       "      <td>نصب از بازار         با پرداخت درون‌برنامه‌ای</td>\n",
       "      <td>NaN</td>\n",
       "      <td>۱۰.۴</td>\n",
       "      <td>رضوان گروپ</td>\n",
       "      <td>https://cafebazaar.ir/developer/906366666577</td>\n",
       "      <td>rezvan.oldk.ghayegh</td>\n",
       "    </tr>\n",
       "    <tr>\n",
       "      <th>61371</th>\n",
       "      <td>Webnovel</td>\n",
       "      <td>کتاب‌ها و مطبوعات</td>\n",
       "      <td>0.0</td>\n",
       "      <td>0</td>\n",
       "      <td>30.0</td>\n",
       "      <td>+۱ هزار</td>\n",
       "      <td>نصب از بازار</td>\n",
       "      <td>0.0</td>\n",
       "      <td>۴.۱۲.۰</td>\n",
       "      <td>Cloudary</td>\n",
       "      <td>https://cafebazaar.ir/developer/cloudary</td>\n",
       "      <td>com.qidian.Int.reader</td>\n",
       "    </tr>\n",
       "    <tr>\n",
       "      <th>114352</th>\n",
       "      <td>Green Diamond Bow Keyboard</td>\n",
       "      <td>شخصی‌سازی</td>\n",
       "      <td>0.0</td>\n",
       "      <td>0</td>\n",
       "      <td>3.0</td>\n",
       "      <td>+۱۰</td>\n",
       "      <td>نصب از بازار</td>\n",
       "      <td>0.0</td>\n",
       "      <td>۱۰۰۰۱۰۰۴</td>\n",
       "      <td>Emoji Cute Keyboard Themes</td>\n",
       "      <td>https://cafebazaar.ir/developer/emoji-cute-key...</td>\n",
       "      <td>keyboard.theme.gree.diamond.bow.glitter</td>\n",
       "    </tr>\n",
       "    <tr>\n",
       "      <th>199401</th>\n",
       "      <td>فروشنده حرفه ای شو</td>\n",
       "      <td>ابزارها</td>\n",
       "      <td>0.0</td>\n",
       "      <td>0</td>\n",
       "      <td>6.0</td>\n",
       "      <td>&lt;۱۰</td>\n",
       "      <td>نصب از بازار         5000 تومان</td>\n",
       "      <td>5000.0</td>\n",
       "      <td>۲.۰</td>\n",
       "      <td>گروه هاتیستا</td>\n",
       "      <td>https://cafebazaar.ir/developer/ali-yaghoobi</td>\n",
       "      <td>wq.ww</td>\n",
       "    </tr>\n",
       "    <tr>\n",
       "      <th>81814</th>\n",
       "      <td>فال حافظ با تفسیر</td>\n",
       "      <td>کتاب‌ها و مطبوعات</td>\n",
       "      <td>4.5</td>\n",
       "      <td>13</td>\n",
       "      <td>6.0</td>\n",
       "      <td>+۵۰</td>\n",
       "      <td>نصب از بازار</td>\n",
       "      <td>0.0</td>\n",
       "      <td>۱.۰.۳</td>\n",
       "      <td>احسان نوذری</td>\n",
       "      <td>https://cafebazaar.ir/developer/906514772795</td>\n",
       "      <td>ehsannozari.falehafez</td>\n",
       "    </tr>\n",
       "    <tr>\n",
       "      <th>169080</th>\n",
       "      <td>Learn VMware vSphere Administration</td>\n",
       "      <td>آموزش</td>\n",
       "      <td>0.0</td>\n",
       "      <td>0</td>\n",
       "      <td>4.0</td>\n",
       "      <td>+۱۰</td>\n",
       "      <td>نصب از بازار</td>\n",
       "      <td>0.0</td>\n",
       "      <td>۱.۰</td>\n",
       "      <td>World's Best Apps</td>\n",
       "      <td>https://cafebazaar.ir/developer/worlds-best-apps</td>\n",
       "      <td>com.usrealtime.VMware</td>\n",
       "    </tr>\n",
       "    <tr>\n",
       "      <th>190491</th>\n",
       "      <td>ساخت کلیپ با عکس و آهنگ</td>\n",
       "      <td>عکاسی و ویدیو</td>\n",
       "      <td>4.8</td>\n",
       "      <td>18</td>\n",
       "      <td>20.0</td>\n",
       "      <td>+۵ هزار</td>\n",
       "      <td>نصب از بازار</td>\n",
       "      <td>0.0</td>\n",
       "      <td>۲.۰۲</td>\n",
       "      <td>Tooska Group</td>\n",
       "      <td>https://cafebazaar.ir/developer/tooskagroup1400</td>\n",
       "      <td>com.tooskagroup1400.videophotoclip</td>\n",
       "    </tr>\n",
       "    <tr>\n",
       "      <th>195296</th>\n",
       "      <td>زندگی به سبک روح الله(ره)</td>\n",
       "      <td>مذهبی</td>\n",
       "      <td>0.0</td>\n",
       "      <td>0</td>\n",
       "      <td>0.9</td>\n",
       "      <td>+۱۰</td>\n",
       "      <td>نصب از بازار         1000 تومان</td>\n",
       "      <td>1000.0</td>\n",
       "      <td>۱.۰</td>\n",
       "      <td>محمد ناصرزاده</td>\n",
       "      <td>https://cafebazaar.ir/developer/naser_2320</td>\n",
       "      <td>ir.naserzadeh.imamkob</td>\n",
       "    </tr>\n",
       "    <tr>\n",
       "      <th>197332</th>\n",
       "      <td>معروف شو بانوان</td>\n",
       "      <td>عکاسی و ویدیو</td>\n",
       "      <td>3.4</td>\n",
       "      <td>7</td>\n",
       "      <td>9.0</td>\n",
       "      <td>+۵۰</td>\n",
       "      <td>نصب از بازار         1000 تومان</td>\n",
       "      <td>1000.0</td>\n",
       "      <td>۱.۰</td>\n",
       "      <td>ره آورد</td>\n",
       "      <td>https://cafebazaar.ir/developer/sgrtak</td>\n",
       "      <td>marofsho.akse</td>\n",
       "    </tr>\n",
       "    <tr>\n",
       "      <th>76046</th>\n",
       "      <td>اقتصاد مدیریت ارشد-موبستاد پیام نور</td>\n",
       "      <td>آموزش</td>\n",
       "      <td>0.0</td>\n",
       "      <td>0</td>\n",
       "      <td>3.0</td>\n",
       "      <td>&lt;۱۰</td>\n",
       "      <td>نصب از بازار         3000 تومان</td>\n",
       "      <td>3000.0</td>\n",
       "      <td>۱.۱</td>\n",
       "      <td>انتشارات خردمندان</td>\n",
       "      <td>https://cafebazaar.ir/developer/482437499980</td>\n",
       "      <td>com.vovin.kapeghtesaademodiriatt</td>\n",
       "    </tr>\n",
       "  </tbody>\n",
       "</table>\n",
       "</div>"
      ],
      "text/plain": [
       "                                        App           Category  Rating  \\\n",
       "177175                            قایق بازی              ورزشی     3.9   \n",
       "61371                              Webnovel  کتاب‌ها و مطبوعات     0.0   \n",
       "114352           Green Diamond Bow Keyboard          شخصی‌سازی     0.0   \n",
       "199401                   فروشنده حرفه ای شو            ابزارها     0.0   \n",
       "81814                     فال حافظ با تفسیر  کتاب‌ها و مطبوعات     4.5   \n",
       "169080  Learn VMware vSphere Administration              آموزش     0.0   \n",
       "190491              ساخت کلیپ با عکس و آهنگ      عکاسی و ویدیو     4.8   \n",
       "195296            زندگی به سبک روح الله(ره)              مذهبی     0.0   \n",
       "197332                      معروف شو بانوان      عکاسی و ویدیو     3.4   \n",
       "76046   اقتصاد مدیریت ارشد-موبستاد پیام نور              آموزش     0.0   \n",
       "\n",
       "        Reviews  Size Installs                                           Type  \\\n",
       "177175       19  13.0     +۱۰   نصب از بازار         با پرداخت درون‌برنامه‌ای   \n",
       "61371         0  30.0  +۱ هزار                                   نصب از بازار   \n",
       "114352        0   3.0     +۱۰                                    نصب از بازار   \n",
       "199401        0   6.0     <۱۰                 نصب از بازار         5000 تومان   \n",
       "81814        13   6.0     +۵۰                                    نصب از بازار   \n",
       "169080        0   4.0     +۱۰                                    نصب از بازار   \n",
       "190491       18  20.0  +۵ هزار                                   نصب از بازار   \n",
       "195296        0   0.9     +۱۰                 نصب از بازار         1000 تومان   \n",
       "197332        7   9.0     +۵۰                 نصب از بازار         1000 تومان   \n",
       "76046         0   3.0     <۱۰                 نصب از بازار         3000 تومان   \n",
       "\n",
       "         Price Current_Ver                   Developer  \\\n",
       "177175     NaN        ۱۰.۴                  رضوان گروپ   \n",
       "61371      0.0      ۴.۱۲.۰                    Cloudary   \n",
       "114352     0.0    ۱۰۰۰۱۰۰۴  Emoji Cute Keyboard Themes   \n",
       "199401  5000.0         ۲.۰                گروه هاتیستا   \n",
       "81814      0.0       ۱.۰.۳                 احسان نوذری   \n",
       "169080     0.0         ۱.۰           World's Best Apps   \n",
       "190491     0.0        ۲.۰۲                Tooska Group   \n",
       "195296  1000.0         ۱.۰               محمد ناصرزاده   \n",
       "197332  1000.0         ۱.۰                     ره آورد   \n",
       "76046   3000.0         ۱.۱           انتشارات خردمندان   \n",
       "\n",
       "                                        DeveloperLinkPage  \\\n",
       "177175       https://cafebazaar.ir/developer/906366666577   \n",
       "61371            https://cafebazaar.ir/developer/cloudary   \n",
       "114352  https://cafebazaar.ir/developer/emoji-cute-key...   \n",
       "199401       https://cafebazaar.ir/developer/ali-yaghoobi   \n",
       "81814        https://cafebazaar.ir/developer/906514772795   \n",
       "169080   https://cafebazaar.ir/developer/worlds-best-apps   \n",
       "190491    https://cafebazaar.ir/developer/tooskagroup1400   \n",
       "195296         https://cafebazaar.ir/developer/naser_2320   \n",
       "197332             https://cafebazaar.ir/developer/sgrtak   \n",
       "76046        https://cafebazaar.ir/developer/482437499980   \n",
       "\n",
       "                                       pkg_name  \n",
       "177175                      rezvan.oldk.ghayegh  \n",
       "61371                     com.qidian.Int.reader  \n",
       "114352  keyboard.theme.gree.diamond.bow.glitter  \n",
       "199401                                    wq.ww  \n",
       "81814                     ehsannozari.falehafez  \n",
       "169080                    com.usrealtime.VMware  \n",
       "190491       com.tooskagroup1400.videophotoclip  \n",
       "195296                    ir.naserzadeh.imamkob  \n",
       "197332                            marofsho.akse  \n",
       "76046          com.vovin.kapeghtesaademodiriatt  "
      ]
     },
     "execution_count": 1,
     "metadata": {},
     "output_type": "execute_result"
    }
   ],
   "source": [
    "import pandas as pd\n",
    "\n",
    "\n",
    "apps = pd.read_csv('dataset\\\\CafeBazaar-raw1.csv')\n",
    "n = 10\n",
    "apps.sample(n)"
   ]
  },
  {
   "cell_type": "code",
   "execution_count": 2,
   "metadata": {},
   "outputs": [
    {
     "data": {
      "text/plain": [
       "Index(['App', 'Category', 'Rating', 'Reviews', 'Size', 'Installs', 'Type',\n",
       "       'Price', 'Current_Ver', 'Developer', 'DeveloperLinkPage', 'pkg_name'],\n",
       "      dtype='object')"
      ]
     },
     "execution_count": 2,
     "metadata": {},
     "output_type": "execute_result"
    }
   ],
   "source": [
    "apps.columns"
   ]
  },
  {
   "cell_type": "code",
   "execution_count": 3,
   "metadata": {},
   "outputs": [
    {
     "data": {
      "text/plain": [
       "199737"
      ]
     },
     "execution_count": 3,
     "metadata": {},
     "output_type": "execute_result"
    }
   ],
   "source": [
    "len(apps)"
   ]
  },
  {
   "cell_type": "code",
   "execution_count": 4,
   "metadata": {},
   "outputs": [
    {
     "data": {
      "text/plain": [
       "20436"
      ]
     },
     "execution_count": 4,
     "metadata": {},
     "output_type": "execute_result"
    }
   ],
   "source": [
    "#In CafeBazaar, Applications are identified by their package names as unique identifier. So we can find duplicates by this col\n",
    "apps.duplicated(subset='pkg_name').sum()"
   ]
  },
  {
   "cell_type": "code",
   "execution_count": 5,
   "metadata": {},
   "outputs": [
    {
     "data": {
      "text/plain": [
       "179301"
      ]
     },
     "execution_count": 5,
     "metadata": {},
     "output_type": "execute_result"
    }
   ],
   "source": [
    "apps.drop_duplicates(subset='pkg_name', inplace=True)\n",
    "len(apps)"
   ]
  },
  {
   "cell_type": "code",
   "execution_count": 6,
   "metadata": {},
   "outputs": [],
   "source": [
    "import warnings\n",
    "import math\n",
    "\n",
    "warnings.filterwarnings('ignore')"
   ]
  },
  {
   "cell_type": "code",
   "execution_count": 7,
   "metadata": {},
   "outputs": [
    {
     "name": "stdout",
     "output_type": "stream",
     "text": [
      "The Number Of Unique Category is: 28\n",
      "The Number Of Unique Installs is: 39\n"
     ]
    }
   ],
   "source": [
    "print(\"The Number Of Unique Category is:\", apps.Category.nunique())\n",
    "print(\"The Number Of Unique Installs is:\", apps.Installs.nunique())"
   ]
  },
  {
   "cell_type": "code",
   "execution_count": 8,
   "metadata": {},
   "outputs": [
    {
     "name": "stdout",
     "output_type": "stream",
     "text": [
      "Now the Number Unique Category is: 30\n"
     ]
    }
   ],
   "source": [
    "#After Discriminating among childs and sport applications and games\n",
    "apps = pd.read_csv('dataset\\\\CafeBazaar-raw2.csv')\n",
    "apps.drop_duplicates(subset='pkg_name', inplace=True)\n",
    "print(\"Now the Number Unique Category is:\", apps.Category.nunique())"
   ]
  },
  {
   "cell_type": "code",
   "execution_count": 9,
   "metadata": {},
   "outputs": [
    {
     "data": {
      "text/plain": [
       "array(['تناسب اندام', 'موسیقی', 'سرگرمی', 'سبک زندگی', 'آموزش', 'ابزارها',\n",
       "       'کتاب\\u200cها و مطبوعات', 'مذهبی', 'پزشکی',\n",
       "       'شبکه\\u200cهای اجتماعی', 'بازی کودکانه', 'معمایی', 'تفننی', 'اکشن',\n",
       "       'شخصی\\u200cسازی', 'آشپزی و رستوران', 'ورزشی', 'استراتژی',\n",
       "       'امور مالی', 'عکاسی و ویدیو', 'رانندگی', 'سفر', 'رفت و آمد',\n",
       "       'کلمات و دانستنی\\u200cها', 'امتیازی', 'بازی ورزشی', 'خرید',\n",
       "       'شبیه\\u200cسازی', 'کودک', 'آب و هوا'], dtype=object)"
      ]
     },
     "execution_count": 9,
     "metadata": {},
     "output_type": "execute_result"
    }
   ],
   "source": [
    "apps.Category.unique()"
   ]
  },
  {
   "cell_type": "code",
   "execution_count": 10,
   "metadata": {},
   "outputs": [
    {
     "data": {
      "text/plain": [
       "array(['برنامه', 'بازی'], dtype=object)"
      ]
     },
     "execution_count": 10,
     "metadata": {},
     "output_type": "execute_result"
    }
   ],
   "source": [
    "apps.Kind.unique()"
   ]
  },
  {
   "cell_type": "code",
   "execution_count": 11,
   "metadata": {},
   "outputs": [
    {
     "data": {
      "text/plain": [
       "App                      0\n",
       "Category                 0\n",
       "Rating                   0\n",
       "Reviews                  0\n",
       "Size                     0\n",
       "Installs                 0\n",
       "Type                     0\n",
       "Price                24605\n",
       "Current_Ver           2195\n",
       "Developer                0\n",
       "DeveloperLinkPage        0\n",
       "pkg_name                 0\n",
       "Kind                     0\n",
       "dtype: int64"
      ]
     },
     "execution_count": 11,
     "metadata": {},
     "output_type": "execute_result"
    }
   ],
   "source": [
    "apps.isnull().sum()"
   ]
  },
  {
   "cell_type": "code",
   "execution_count": 12,
   "metadata": {},
   "outputs": [
    {
     "data": {
      "text/plain": [
       "False"
      ]
     },
     "execution_count": 12,
     "metadata": {},
     "output_type": "execute_result"
    }
   ],
   "source": [
    "apps.fillna(0, inplace=True)\n",
    "apps.isnull().any().any()"
   ]
  },
  {
   "cell_type": "code",
   "execution_count": 13,
   "metadata": {},
   "outputs": [
    {
     "data": {
      "text/html": [
       "<div>\n",
       "<style scoped>\n",
       "    .dataframe tbody tr th:only-of-type {\n",
       "        vertical-align: middle;\n",
       "    }\n",
       "\n",
       "    .dataframe tbody tr th {\n",
       "        vertical-align: top;\n",
       "    }\n",
       "\n",
       "    .dataframe thead th {\n",
       "        text-align: right;\n",
       "    }\n",
       "</style>\n",
       "<table border=\"1\" class=\"dataframe\">\n",
       "  <thead>\n",
       "    <tr style=\"text-align: right;\">\n",
       "      <th></th>\n",
       "      <th>App</th>\n",
       "      <th>Category</th>\n",
       "      <th>Rating</th>\n",
       "      <th>Reviews</th>\n",
       "      <th>Size</th>\n",
       "      <th>Installs</th>\n",
       "      <th>Type</th>\n",
       "      <th>Price</th>\n",
       "      <th>Current_Ver</th>\n",
       "      <th>Developer</th>\n",
       "      <th>DeveloperLinkPage</th>\n",
       "      <th>pkg_name</th>\n",
       "      <th>Kind</th>\n",
       "    </tr>\n",
       "  </thead>\n",
       "  <tbody>\n",
       "    <tr>\n",
       "      <th>108612</th>\n",
       "      <td>فال حافظ</td>\n",
       "      <td>سرگرمی</td>\n",
       "      <td>4.5</td>\n",
       "      <td>525</td>\n",
       "      <td>2.0</td>\n",
       "      <td>+۱ هزار</td>\n",
       "      <td>نصب از بازار</td>\n",
       "      <td>0.0</td>\n",
       "      <td>۱.۰</td>\n",
       "      <td></td>\n",
       "      <td>https://cafebazaar.ir/developer/e-ehsan-e</td>\n",
       "      <td>ir.shaparak.hafez</td>\n",
       "      <td>برنامه</td>\n",
       "    </tr>\n",
       "    <tr>\n",
       "      <th>108614</th>\n",
       "      <td>ذهن خوانی (چشمان)</td>\n",
       "      <td>آموزش</td>\n",
       "      <td>3.3</td>\n",
       "      <td>132</td>\n",
       "      <td>1.0</td>\n",
       "      <td>+۲۰۰</td>\n",
       "      <td>نصب از بازار</td>\n",
       "      <td>0.0</td>\n",
       "      <td>0</td>\n",
       "      <td></td>\n",
       "      <td>https://cafebazaar.ir/developer/e-ehsan-e</td>\n",
       "      <td>ir.shaparak.zehnkhany</td>\n",
       "      <td>برنامه</td>\n",
       "    </tr>\n",
       "  </tbody>\n",
       "</table>\n",
       "</div>"
      ],
      "text/plain": [
       "                      App Category  Rating  Reviews  Size Installs  \\\n",
       "108612           فال حافظ   سرگرمی     4.5      525   2.0  +۱ هزار   \n",
       "108614  ذهن خوانی (چشمان)    آموزش     3.3      132   1.0    +۲۰۰    \n",
       "\n",
       "                Type  Price Current_Ver Developer  \\\n",
       "108612  نصب از بازار    0.0         ۱.۰             \n",
       "108614  نصب از بازار    0.0           0             \n",
       "\n",
       "                                DeveloperLinkPage               pkg_name  \\\n",
       "108612  https://cafebazaar.ir/developer/e-ehsan-e      ir.shaparak.hafez   \n",
       "108614  https://cafebazaar.ir/developer/e-ehsan-e  ir.shaparak.zehnkhany   \n",
       "\n",
       "          Kind  \n",
       "108612  برنامه  \n",
       "108614  برنامه  "
      ]
     },
     "execution_count": 13,
     "metadata": {},
     "output_type": "execute_result"
    }
   ],
   "source": [
    "apps[apps['Developer'] == ' ']"
   ]
  },
  {
   "cell_type": "code",
   "execution_count": 14,
   "metadata": {},
   "outputs": [
    {
     "data": {
      "text/plain": [
       "array(['+۱۰ ', '+۵۰۰ ', '<۱۰ ', '+۱۰۰ ', '+۱ هزار', '+۵۰ ', '+۲۰۰ ',\n",
       "       '+۲ هزار', '+۲۰ هزار', '+۱۰۰ هزار', '+۵۰ هزار', '+۵ هزار',\n",
       "       '+۱۰ هزار', '+۲ میلیون', '+۲۰۰ هزار', '+۱ میلیون', '+۶ میلیون',\n",
       "       '+۳ میلیون', '+۵۰۰ هزار', '+۴۰ میلیون', '+۷ میلیون', '+۴۵ میلیون',\n",
       "       '+۹ میلیون', '+۳۹ میلیون', '+۵ میلیون', '+۳۲ میلیون', '+۱۴ میلیون',\n",
       "       '+۱۸ میلیون', '+۴ میلیون', '+۲۹ میلیون', '+۸ میلیون', '+۱۰ میلیون',\n",
       "       '+۱۳ میلیون', '+۱۲ میلیون', '+۳۶ میلیون', '+۲۱ میلیون',\n",
       "       '+۱۹ میلیون', '+۳۴ میلیون', '+۲۷ میلیون'], dtype=object)"
      ]
     },
     "execution_count": 14,
     "metadata": {},
     "output_type": "execute_result"
    }
   ],
   "source": [
    "apps.Installs.unique()"
   ]
  },
  {
   "cell_type": "code",
   "execution_count": 15,
   "metadata": {},
   "outputs": [],
   "source": [
    "apps = pd.read_csv('dataset\\\\CafeBazaar-raw3.csv', encoding='utf-8')"
   ]
  },
  {
   "cell_type": "code",
   "execution_count": 16,
   "metadata": {},
   "outputs": [
    {
     "data": {
      "text/plain": [
       "array([      10,      200,      500,     1000,     2000,     5000,\n",
       "          10000,    20000,   500000,   200000,      100,       50,\n",
       "          50000,  2000000,  1000000,  6000000,  3000000, 40000000,\n",
       "        7000000,  9000000, 39000000,  5000000, 32000000, 14000000,\n",
       "       18000000,  4000000, 29000000,  8000000, 10000000, 13000000,\n",
       "       12000000, 36000000, 19000000, 34000000, 27000000,   100000,\n",
       "       21000000, 45000000], dtype=int64)"
      ]
     },
     "execution_count": 16,
     "metadata": {},
     "output_type": "execute_result"
    }
   ],
   "source": [
    "apps.InstallsNum.unique()"
   ]
  },
  {
   "cell_type": "code",
   "execution_count": 17,
   "metadata": {},
   "outputs": [
    {
     "data": {
      "text/plain": [
       "array(['رایگان', 'با پرداخت درون برنامه ای', 'پولی'], dtype=object)"
      ]
     },
     "execution_count": 17,
     "metadata": {},
     "output_type": "execute_result"
    }
   ],
   "source": [
    "paid = 'تومان'\n",
    "free = 'نصب از بازار'\n",
    "for i in range(len(apps)):\n",
    "    if paid in apps['Type'][i]:\n",
    "        apps['Type'][i] = 'پولی'\n",
    "    elif free == apps['Type'][i]:\n",
    "        apps['Type'][i] = 'رایگان'\n",
    "    else:\n",
    "        apps['Type'][i] = 'با پرداخت درون برنامه ای'\n",
    "apps.Type.unique()"
   ]
  },
  {
   "cell_type": "code",
   "execution_count": 18,
   "metadata": {},
   "outputs": [],
   "source": [
    "#محاسبه ویژگی DataFlow\n",
    "data_flow_list = [float(apps['Size'].values[i] * apps['InstallsNum'].values[i]) for i in range(len(apps))]\n",
    "apps['DataFlow'] = pd.Series(data_flow_list)\n",
    "\n",
    "#محاسبه ویژگی SellAmount\n",
    "sale_volume_list = [float(apps['Price'].values[i] * apps['InstallsNum'].values[i]) for i in range(len(apps))]\n",
    "apps['SellAmount'] = pd.Series(sale_volume_list)\n",
    "\n",
    "#محاسبه ویژگی ReviewPerInstall\n",
    "review_install_ratio_list = [float(apps['Reviews'].values[i] / apps['InstallsNum'].values[i] if apps['InstallsNum'].values[i] > 1e-6 else 0) for i in range(len(apps))]\n",
    "apps['Review_Install_Ratio'] = pd.Series(review_install_ratio_list)"
   ]
  },
  {
   "cell_type": "code",
   "execution_count": 19,
   "metadata": {},
   "outputs": [
    {
     "name": "stdout",
     "output_type": "stream",
     "text": [
      "<class 'pandas.core.frame.DataFrame'>\n",
      "RangeIndex: 179301 entries, 0 to 179300\n",
      "Data columns (total 17 columns):\n",
      " #   Column                Non-Null Count   Dtype  \n",
      "---  ------                --------------   -----  \n",
      " 0   App                   179301 non-null  object \n",
      " 1   Category              179301 non-null  object \n",
      " 2   Rating                179301 non-null  float64\n",
      " 3   Reviews               179301 non-null  int64  \n",
      " 4   Size                  179301 non-null  float64\n",
      " 5   Installs              179301 non-null  object \n",
      " 6   Type                  179301 non-null  object \n",
      " 7   Price                 179301 non-null  int64  \n",
      " 8   Developer             179299 non-null  object \n",
      " 9   DeveloperLinkPage     179301 non-null  object \n",
      " 10  pkg_name              179301 non-null  object \n",
      " 11  Kind                  179301 non-null  object \n",
      " 12  InstallsNum           179301 non-null  int64  \n",
      " 13  Current_Ver           179301 non-null  object \n",
      " 14  DataFlow              179301 non-null  float64\n",
      " 15  SellAmount            179301 non-null  float64\n",
      " 16  Review_Install_Ratio  179301 non-null  float64\n",
      "dtypes: float64(5), int64(3), object(9)\n",
      "memory usage: 23.3+ MB\n"
     ]
    }
   ],
   "source": [
    "apps.info()"
   ]
  },
  {
   "cell_type": "code",
   "execution_count": 20,
   "metadata": {},
   "outputs": [
    {
     "data": {
      "text/html": [
       "<div>\n",
       "<style scoped>\n",
       "    .dataframe tbody tr th:only-of-type {\n",
       "        vertical-align: middle;\n",
       "    }\n",
       "\n",
       "    .dataframe tbody tr th {\n",
       "        vertical-align: top;\n",
       "    }\n",
       "\n",
       "    .dataframe thead th {\n",
       "        text-align: right;\n",
       "    }\n",
       "</style>\n",
       "<table border=\"1\" class=\"dataframe\">\n",
       "  <thead>\n",
       "    <tr style=\"text-align: right;\">\n",
       "      <th></th>\n",
       "      <th>Rating</th>\n",
       "      <th>Reviews</th>\n",
       "      <th>Size</th>\n",
       "      <th>Price</th>\n",
       "      <th>InstallsNum</th>\n",
       "      <th>DataFlow</th>\n",
       "      <th>SellAmount</th>\n",
       "      <th>Review_Install_Ratio</th>\n",
       "    </tr>\n",
       "  </thead>\n",
       "  <tbody>\n",
       "    <tr>\n",
       "      <th>count</th>\n",
       "      <td>179301.000000</td>\n",
       "      <td>1.793010e+05</td>\n",
       "      <td>179301.000000</td>\n",
       "      <td>179301.000000</td>\n",
       "      <td>1.793010e+05</td>\n",
       "      <td>1.793010e+05</td>\n",
       "      <td>1.793010e+05</td>\n",
       "      <td>179301.000000</td>\n",
       "    </tr>\n",
       "    <tr>\n",
       "      <th>mean</th>\n",
       "      <td>2.619967</td>\n",
       "      <td>3.120953e+02</td>\n",
       "      <td>16.466609</td>\n",
       "      <td>934.819103</td>\n",
       "      <td>5.885258e+03</td>\n",
       "      <td>2.387810e+05</td>\n",
       "      <td>1.506696e+05</td>\n",
       "      <td>0.957927</td>\n",
       "    </tr>\n",
       "    <tr>\n",
       "      <th>std</th>\n",
       "      <td>2.039871</td>\n",
       "      <td>9.937573e+03</td>\n",
       "      <td>32.579267</td>\n",
       "      <td>4202.160700</td>\n",
       "      <td>3.112914e+05</td>\n",
       "      <td>2.178151e+07</td>\n",
       "      <td>3.690121e+06</td>\n",
       "      <td>9.761785</td>\n",
       "    </tr>\n",
       "    <tr>\n",
       "      <th>min</th>\n",
       "      <td>0.000000</td>\n",
       "      <td>0.000000e+00</td>\n",
       "      <td>0.010000</td>\n",
       "      <td>0.000000</td>\n",
       "      <td>1.000000e+01</td>\n",
       "      <td>1.000000e-01</td>\n",
       "      <td>0.000000e+00</td>\n",
       "      <td>0.000000</td>\n",
       "    </tr>\n",
       "    <tr>\n",
       "      <th>25%</th>\n",
       "      <td>0.000000</td>\n",
       "      <td>0.000000e+00</td>\n",
       "      <td>3.000000</td>\n",
       "      <td>0.000000</td>\n",
       "      <td>1.000000e+01</td>\n",
       "      <td>6.000000e+01</td>\n",
       "      <td>0.000000e+00</td>\n",
       "      <td>0.000000</td>\n",
       "    </tr>\n",
       "    <tr>\n",
       "      <th>50%</th>\n",
       "      <td>3.500000</td>\n",
       "      <td>3.000000e+00</td>\n",
       "      <td>7.000000</td>\n",
       "      <td>0.000000</td>\n",
       "      <td>5.000000e+01</td>\n",
       "      <td>3.000000e+02</td>\n",
       "      <td>0.000000e+00</td>\n",
       "      <td>0.040000</td>\n",
       "    </tr>\n",
       "    <tr>\n",
       "      <th>75%</th>\n",
       "      <td>4.400000</td>\n",
       "      <td>2.300000e+01</td>\n",
       "      <td>18.000000</td>\n",
       "      <td>0.000000</td>\n",
       "      <td>2.000000e+02</td>\n",
       "      <td>2.000000e+03</td>\n",
       "      <td>0.000000e+00</td>\n",
       "      <td>0.300000</td>\n",
       "    </tr>\n",
       "    <tr>\n",
       "      <th>max</th>\n",
       "      <td>5.000000</td>\n",
       "      <td>2.802294e+06</td>\n",
       "      <td>1015.000000</td>\n",
       "      <td>40000.000000</td>\n",
       "      <td>4.500000e+07</td>\n",
       "      <td>6.162000e+09</td>\n",
       "      <td>7.500000e+08</td>\n",
       "      <td>1425.300000</td>\n",
       "    </tr>\n",
       "  </tbody>\n",
       "</table>\n",
       "</div>"
      ],
      "text/plain": [
       "              Rating       Reviews           Size          Price  \\\n",
       "count  179301.000000  1.793010e+05  179301.000000  179301.000000   \n",
       "mean        2.619967  3.120953e+02      16.466609     934.819103   \n",
       "std         2.039871  9.937573e+03      32.579267    4202.160700   \n",
       "min         0.000000  0.000000e+00       0.010000       0.000000   \n",
       "25%         0.000000  0.000000e+00       3.000000       0.000000   \n",
       "50%         3.500000  3.000000e+00       7.000000       0.000000   \n",
       "75%         4.400000  2.300000e+01      18.000000       0.000000   \n",
       "max         5.000000  2.802294e+06    1015.000000   40000.000000   \n",
       "\n",
       "        InstallsNum      DataFlow    SellAmount  Review_Install_Ratio  \n",
       "count  1.793010e+05  1.793010e+05  1.793010e+05         179301.000000  \n",
       "mean   5.885258e+03  2.387810e+05  1.506696e+05              0.957927  \n",
       "std    3.112914e+05  2.178151e+07  3.690121e+06              9.761785  \n",
       "min    1.000000e+01  1.000000e-01  0.000000e+00              0.000000  \n",
       "25%    1.000000e+01  6.000000e+01  0.000000e+00              0.000000  \n",
       "50%    5.000000e+01  3.000000e+02  0.000000e+00              0.040000  \n",
       "75%    2.000000e+02  2.000000e+03  0.000000e+00              0.300000  \n",
       "max    4.500000e+07  6.162000e+09  7.500000e+08           1425.300000  "
      ]
     },
     "execution_count": 20,
     "metadata": {},
     "output_type": "execute_result"
    }
   ],
   "source": [
    "apps.describe()"
   ]
  },
  {
   "cell_type": "code",
   "execution_count": 21,
   "metadata": {},
   "outputs": [],
   "source": [
    "#apps.to_csv('dataset\\\\CafeBazaar-final.csv', index=False)"
   ]
  }
 ],
 "metadata": {
  "kernelspec": {
   "display_name": "Python 3",
   "language": "python",
   "name": "python3"
  },
  "language_info": {
   "codemirror_mode": {
    "name": "ipython",
    "version": 3
   },
   "file_extension": ".py",
   "mimetype": "text/x-python",
   "name": "python",
   "nbconvert_exporter": "python",
   "pygments_lexer": "ipython3",
   "version": "3.8.5"
  }
 },
 "nbformat": 4,
 "nbformat_minor": 4
}
